{
 "cells": [
  {
   "cell_type": "markdown",
   "metadata": {},
   "source": [
    "### Delivery Challan Parsing"
   ]
  },
  {
   "cell_type": "code",
   "execution_count": 177,
   "metadata": {},
   "outputs": [
    {
     "ename": "ModuleNotFoundError",
     "evalue": "No module named '__main__.src'; '__main__' is not a package",
     "output_type": "error",
     "traceback": [
      "\u001b[0;31m---------------------------------------------------------------------------\u001b[0m",
      "\u001b[0;31mModuleNotFoundError\u001b[0m                       Traceback (most recent call last)",
      "\u001b[0;32m<ipython-input-177-4a770523fb83>\u001b[0m in \u001b[0;36m<module>\u001b[0;34m()\u001b[0m\n\u001b[1;32m      8\u001b[0m \u001b[0mwarnings\u001b[0m\u001b[0;34m.\u001b[0m\u001b[0mfilterwarnings\u001b[0m\u001b[0;34m(\u001b[0m\u001b[0;34m'ignore'\u001b[0m\u001b[0;34m)\u001b[0m\u001b[0;34m\u001b[0m\u001b[0;34m\u001b[0m\u001b[0m\n\u001b[1;32m      9\u001b[0m \u001b[0;34m\u001b[0m\u001b[0m\n\u001b[0;32m---> 10\u001b[0;31m \u001b[0;32mfrom\u001b[0m \u001b[0;34m.\u001b[0m\u001b[0msrc\u001b[0m \u001b[0;32mimport\u001b[0m \u001b[0mdescription_matching\u001b[0m\u001b[0;34m\u001b[0m\u001b[0;34m\u001b[0m\u001b[0m\n\u001b[0m",
      "\u001b[0;31mModuleNotFoundError\u001b[0m: No module named '__main__.src'; '__main__' is not a package"
     ]
    }
   ],
   "source": [
    "import pdfquery\n",
    "import tabula\n",
    "import json, os, re,ast\n",
    "import pandas as pd, numpy as np\n",
    "import warnings\n",
    "from fuzzywuzzy import process, fuzz\n",
    "\n",
    "warnings.filterwarnings('ignore')"
   ]
  },
  {
   "cell_type": "code",
   "execution_count": 175,
   "metadata": {},
   "outputs": [
    {
     "data": {
      "text/plain": [
       "'/home/umair/redbuffer/invoice_matching/notebooks'"
      ]
     },
     "execution_count": 175,
     "metadata": {},
     "output_type": "execute_result"
    }
   ],
   "source": [
    "pwd"
   ]
  },
  {
   "cell_type": "code",
   "execution_count": 57,
   "metadata": {},
   "outputs": [],
   "source": [
    "### LOAD Delivery Challans\n",
    "delivery_challans = {}\n",
    "for filename in os.listdir(\"../data/\"):\n",
    "    if filename.endswith(\".txt\"):\n",
    "        text = open(\"../data/\"+filename,'r',encoding='utf-8').readlines()\n",
    "        text = [tl.lower().strip() for tl in text if tl.strip()]\n",
    "        delivery_challans[filename] = text\n",
    "\n",
    "        \n",
    "#### LOAD Categories:Attributes 'categories.csv'\n",
    "categories = pd.read_csv('../data/item_categories_and_attributes.csv')\n",
    "\n",
    "\n",
    "### LOAD Keywords for DC mapping\n",
    "with open('../data/keywords.json', 'r') as file:\n",
    "    keywords = json.load(file)\n",
    "\n",
    "    \n",
    "### LOAD purchase orders\n",
    "po_list = json.load(open('../data/purchase_orders.json', 'r'))"
   ]
  }
 ],
 "metadata": {
  "kernelspec": {
   "display_name": "Python 3",
   "language": "python",
   "name": "python3"
  },
  "language_info": {
   "codemirror_mode": {
    "name": "ipython",
    "version": 3
   },
   "file_extension": ".py",
   "mimetype": "text/x-python",
   "name": "python",
   "nbconvert_exporter": "python",
   "pygments_lexer": "ipython3",
   "version": "3.6.8"
  }
 },
 "nbformat": 4,
 "nbformat_minor": 2
}
